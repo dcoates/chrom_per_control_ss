{
 "cells": [
  {
   "cell_type": "code",
   "execution_count": null,
   "id": "5b14b375-5a27-4b23-a9c1-994a7696e26b",
   "metadata": {},
   "outputs": [],
   "source": [
    "# quick tester for implementing chromatic perimetry codes...\n"
   ]
  },
  {
   "cell_type": "code",
   "execution_count": 1,
   "metadata": {},
   "outputs": [
    {
     "name": "stdout",
     "output_type": "stream",
     "text": [
      "\n",
      "setup parameters read from NEC_PA241W_AIM1.pickle\n"
     ]
    },
    {
     "data": {
      "text/plain": [
       "{'rgb2xyz_mat': array([[2.3046358e+00, 2.2641510e-01, 5.0666666e+00],\n",
       "        [1.0000000e+00, 1.0000000e+00, 1.0000000e+00],\n",
       "        [6.6226288e-03, 1.2129385e-01, 2.7266668e+01]], dtype=float32),\n",
       " 'xyz2rgb_mat': array([[ 0.47649282, -0.09757971, -0.08496273],\n",
       "        [-0.47850567,  1.1024603 ,  0.04848295],\n",
       "        [ 0.00201287, -0.00488052,  0.03647978]], dtype=float32),\n",
       " 'xyz2lms_mat': array([[ 0.15516451,  0.5430758 , -0.0328681 ],\n",
       "        [-0.15516451,  0.45692426,  0.0328681 ],\n",
       "        [ 0.        ,  0.        ,  0.01608095]], dtype=float32),\n",
       " 'lms2xyz_mat': array([[ 2.9447727 , -3.5       , 13.172569  ],\n",
       "        [ 0.99999994,  0.99999994,  0.        ],\n",
       "        [ 0.        ,  0.        , 62.185383  ]], dtype=float32),\n",
       " 'W_x': 0.324,\n",
       " 'W_y': 0.372,\n",
       " 'L_x': 0.5649148,\n",
       " 'L_y': 0.23645736,\n",
       " 'M_x': 0.16040455,\n",
       " 'M_y': 0.40400267,\n",
       " 'S_x': 0.21090871,\n",
       " 'S_y': 0.05945435,\n",
       " 'LM_x': 0.4125978,\n",
       " 'LM_y': 0.53816855,\n",
       " 'r_lum': 14.8,\n",
       " 'g_lum': 43.4,\n",
       " 'b_lum': 1.6,\n",
       " 'targ_lum': 30.0,\n",
       " 'win_pix': 1009.4555772900969,\n",
       " 'min_pix': 1.1887595918003873}"
      ]
     },
     "execution_count": 1,
     "metadata": {},
     "output_type": "execute_result"
    }
   ],
   "source": [
    "from psychopy.tools.filetools import fromFile\n",
    "\n",
    "setup_file = 'NEC_PA241W_AIM1.pickle'\n",
    "setup_params = fromFile(setup_file)\n",
    "print('\\nsetup parameters read from %s' % setup_file)\n",
    "\n",
    "setup_params"
   ]
  },
  {
   "cell_type": "code",
   "execution_count": 2,
   "metadata": {},
   "outputs": [
    {
     "name": "stdout",
     "output_type": "stream",
     "text": [
      "\n",
      "setup parameters read from NEC_PA241W_AIM2.pickle\n"
     ]
    },
    {
     "data": {
      "text/plain": [
       "{'rgb2xyz_mat': array([[2.3046358e+00, 2.2641510e-01, 5.0666666e+00],\n",
       "        [1.0000000e+00, 1.0000000e+00, 1.0000000e+00],\n",
       "        [6.6226288e-03, 1.2129385e-01, 2.7266668e+01]], dtype=float32),\n",
       " 'xyz2rgb_mat': array([[ 0.47649282, -0.09757971, -0.08496273],\n",
       "        [-0.47850567,  1.1024603 ,  0.04848295],\n",
       "        [ 0.00201287, -0.00488052,  0.03647978]], dtype=float32),\n",
       " 'xyz2lms_mat': array([[ 0.15516451,  0.5430758 , -0.0328681 ],\n",
       "        [-0.15516451,  0.45692426,  0.0328681 ],\n",
       "        [ 0.        ,  0.        ,  0.01608095]], dtype=float32),\n",
       " 'lms2xyz_mat': array([[ 2.9447727 , -3.5       , 13.172569  ],\n",
       "        [ 0.99999994,  0.99999994,  0.        ],\n",
       "        [ 0.        ,  0.        , 62.185383  ]], dtype=float32),\n",
       " 'W_x': 0.324,\n",
       " 'W_y': 0.372,\n",
       " 'L_x': 0.5649148,\n",
       " 'L_y': 0.23645736,\n",
       " 'M_x': 0.16040455,\n",
       " 'M_y': 0.40400267,\n",
       " 'S_x': 0.21090871,\n",
       " 'S_y': 0.05945435,\n",
       " 'LM_x': 0.4125978,\n",
       " 'LM_y': 0.53816855,\n",
       " 'r_lum': 14.8,\n",
       " 'g_lum': 43.4,\n",
       " 'b_lum': 1.6,\n",
       " 'targ_lum': 30.0,\n",
       " 'win_pix': 1001.7289355384609,\n",
       " 'min_pix': 0.5989644291122339}"
      ]
     },
     "execution_count": 2,
     "metadata": {},
     "output_type": "execute_result"
    }
   ],
   "source": [
    "from psychopy.tools.filetools import fromFile\n",
    "\n",
    "setup_file = 'NEC_PA241W_AIM2.pickle'\n",
    "setup_params = fromFile(setup_file)\n",
    "print('\\nsetup parameters read from %s' % setup_file)\n",
    "\n",
    "setup_params"
   ]
  }
 ],
 "metadata": {
  "interpreter": {
   "hash": "5109d816b82be14675a6b11f8e0f0d2e80f029176ed3710d54e125caa8520dfd"
  },
  "kernelspec": {
   "display_name": "Python 3.7.9 64-bit",
   "language": "python",
   "name": "python3"
  },
  "language_info": {
   "codemirror_mode": {
    "name": "ipython",
    "version": 3
   },
   "file_extension": ".py",
   "mimetype": "text/x-python",
   "name": "python",
   "nbconvert_exporter": "python",
   "pygments_lexer": "ipython3",
   "version": "3.8.18"
  }
 },
 "nbformat": 4,
 "nbformat_minor": 5
}
